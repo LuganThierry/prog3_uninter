{
  "nbformat": 4,
  "nbformat_minor": 0,
  "metadata": {
    "colab": {
      "provenance": [],
      "authorship_tag": "ABX9TyNJd9RhtrZAYWyTZpAkQAx/",
      "include_colab_link": true
    },
    "kernelspec": {
      "name": "python3",
      "display_name": "Python 3"
    },
    "language_info": {
      "name": "python"
    }
  },
  "cells": [
    {
      "cell_type": "markdown",
      "metadata": {
        "id": "view-in-github",
        "colab_type": "text"
      },
      "source": [
        "<a href=\"https://colab.research.google.com/github/LuganThierry/prog3_uninter/blob/main/Prog3Aula01.ipynb\" target=\"_parent\"><img src=\"https://colab.research.google.com/assets/colab-badge.svg\" alt=\"Open In Colab\"/></a>"
      ]
    },
    {
      "cell_type": "code",
      "execution_count": 18,
      "metadata": {
        "id": "SzBBYWEWAKC2"
      },
      "outputs": [],
      "source": [
        "def busca_binaria(init: int, end: int, data: list, search: int):\n",
        "    while (init <= end):\n",
        "        middle = int((init + end)/2)\n",
        "        if (search > data[middle]):\n",
        "            init = middle + 1\n",
        "        elif (search < data[middle]):\n",
        "            end = middle - 1\n",
        "        else:\n",
        "            return f'Número {data[middle]}; posição {middle}'\n",
        "    return f\"{search } não encontrado\""
      ]
    },
    {
      "cell_type": "code",
      "source": [
        "import random\n",
        "\n",
        "data = list(range(2, 13))\n",
        "data.sort()\n",
        "\n",
        "search = random.randint(0, 15)\n",
        "\n",
        "res = busca_binaria(0, len(data) - 1, data, search)\n",
        "\n",
        "print(search)\n",
        "print(res)"
      ],
      "metadata": {
        "colab": {
          "base_uri": "https://localhost:8080/"
        },
        "id": "wyXEDgbmozx1",
        "outputId": "867a636d-bbde-47ca-8170-c6d427d39e69"
      },
      "execution_count": 37,
      "outputs": [
        {
          "output_type": "stream",
          "name": "stdout",
          "text": [
            "1\n",
            "1 não encontrado\n"
          ]
        }
      ]
    },
    {
      "cell_type": "code",
      "source": [
        "data = list(range(2, 13))\n",
        "data.sort()\n",
        "\n",
        "search = random.randint(0, 15)\n",
        "\n",
        "res = busca_binaria(0, len(data) - 1, data, search)\n",
        "\n",
        "print(search)\n",
        "print(res)"
      ],
      "metadata": {
        "colab": {
          "base_uri": "https://localhost:8080/"
        },
        "id": "8IV5G7WnDQri",
        "outputId": "10eba8f3-b1e6-4182-9960-7138ae17805f"
      },
      "execution_count": 39,
      "outputs": [
        {
          "output_type": "stream",
          "name": "stdout",
          "text": [
            "7\n",
            "Número 7; posição 5\n"
          ]
        }
      ]
    },
    {
      "cell_type": "code",
      "source": [
        "import random\n",
        "\n",
        "data = list(range(2, 13))\n",
        "data.sort()\n",
        "\n",
        "search = random.randint(0, 20)\n",
        "\n",
        "res = busca_binaria(0, len(data) - 1, data, search)\n",
        "\n",
        "print(search)\n",
        "print(res)"
      ],
      "metadata": {
        "colab": {
          "base_uri": "https://localhost:8080/"
        },
        "id": "yF9nmEw0DUco",
        "outputId": "ef382167-38c1-4239-9b27-e0e592384fbe"
      },
      "execution_count": 42,
      "outputs": [
        {
          "output_type": "stream",
          "name": "stdout",
          "text": [
            "19\n",
            "19 não encontrado\n"
          ]
        }
      ]
    }
  ]
}