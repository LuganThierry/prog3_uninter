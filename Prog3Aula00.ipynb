{
  "nbformat": 4,
  "nbformat_minor": 0,
  "metadata": {
    "colab": {
      "provenance": [],
      "authorship_tag": "ABX9TyPUqZZO6o+KLxCDpy0P78LQ",
      "include_colab_link": true
    },
    "kernelspec": {
      "name": "python3",
      "display_name": "Python 3"
    },
    "language_info": {
      "name": "python"
    }
  },
  "cells": [
    {
      "cell_type": "markdown",
      "metadata": {
        "id": "view-in-github",
        "colab_type": "text"
      },
      "source": [
        "<a href=\"https://colab.research.google.com/github/LuganThierry/prog3_uninter/blob/main/Prog3Aula00.ipynb\" target=\"_parent\"><img src=\"https://colab.research.google.com/assets/colab-badge.svg\" alt=\"Open In Colab\"/></a>"
      ]
    },
    {
      "cell_type": "code",
      "execution_count": 17,
      "metadata": {
        "id": "IkZ4Cnv_wbsF"
      },
      "outputs": [],
      "source": [
        "def fatorial_iterativo(n: int):\n",
        "    f = 1\n",
        "    if n < 0:\n",
        "        return None\n",
        "    if n == 0 or n == 1:\n",
        "        return f\n",
        "    else:\n",
        "        for i in range(1, n + 1):\n",
        "            f = f * i\n",
        "        return f"
      ]
    },
    {
      "cell_type": "code",
      "source": [
        "fatorial_iterativo(11)"
      ],
      "metadata": {
        "colab": {
          "base_uri": "https://localhost:8080/"
        },
        "id": "haDZyZp8xR_R",
        "outputId": "db5641d5-6423-4049-c2b0-b8f1ccad5fb9"
      },
      "execution_count": 18,
      "outputs": [
        {
          "output_type": "execute_result",
          "data": {
            "text/plain": [
              "39916800"
            ]
          },
          "metadata": {},
          "execution_count": 18
        }
      ]
    },
    {
      "cell_type": "code",
      "source": [
        "def fatorial_recursivo(n: int):\n",
        "    f = 1\n",
        "    if n < 0:\n",
        "        return None\n",
        "    if n == 0 or n == 1:\n",
        "        return f\n",
        "    else:\n",
        "        return n * fatorial_recursivo(n - 1)"
      ],
      "metadata": {
        "id": "gGdGUnc6xwel"
      },
      "execution_count": 19,
      "outputs": []
    },
    {
      "cell_type": "code",
      "source": [
        "fatorial_recursivo(11)"
      ],
      "metadata": {
        "colab": {
          "base_uri": "https://localhost:8080/"
        },
        "id": "lDcw00Ahz_Ug",
        "outputId": "81017209-16ce-4623-b7f9-a416432224b1"
      },
      "execution_count": 21,
      "outputs": [
        {
          "output_type": "execute_result",
          "data": {
            "text/plain": [
              "39916800"
            ]
          },
          "metadata": {},
          "execution_count": 21
        }
      ]
    }
  ]
}