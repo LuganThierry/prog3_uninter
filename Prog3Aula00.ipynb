{
  "nbformat": 4,
  "nbformat_minor": 0,
  "metadata": {
    "colab": {
      "provenance": [],
      "authorship_tag": "ABX9TyMC2LXcyakfjICV6uLrO5h7",
      "include_colab_link": true
    },
    "kernelspec": {
      "name": "python3",
      "display_name": "Python 3"
    },
    "language_info": {
      "name": "python"
    }
  },
  "cells": [
    {
      "cell_type": "markdown",
      "metadata": {
        "id": "view-in-github",
        "colab_type": "text"
      },
      "source": [
        "<a href=\"https://colab.research.google.com/github/LuganThierry/prog3_uninter/blob/main/Prog3Aula00.ipynb\" target=\"_parent\"><img src=\"https://colab.research.google.com/assets/colab-badge.svg\" alt=\"Open In Colab\"/></a>"
      ]
    },
    {
      "cell_type": "code",
      "execution_count": 17,
      "metadata": {
        "id": "IkZ4Cnv_wbsF"
      },
      "outputs": [],
      "source": [
        "def fatorial_iterativo(n: int):\n",
        "    f = 1\n",
        "    if n < 0:\n",
        "        return None\n",
        "    if n == 0 or n == 1:\n",
        "        return f\n",
        "    else:\n",
        "        for i in range(1, n + 1):\n",
        "            f = f * i\n",
        "        return f"
      ]
    },
    {
      "cell_type": "code",
      "source": [
        "fatorial_iterativo(11)"
      ],
      "metadata": {
        "colab": {
          "base_uri": "https://localhost:8080/"
        },
        "id": "haDZyZp8xR_R",
        "outputId": "db5641d5-6423-4049-c2b0-b8f1ccad5fb9"
      },
      "execution_count": 18,
      "outputs": [
        {
          "output_type": "execute_result",
          "data": {
            "text/plain": [
              "39916800"
            ]
          },
          "metadata": {},
          "execution_count": 18
        }
      ]
    },
    {
      "cell_type": "code",
      "source": [
        "def fatorial_recursivo(n: int):\n",
        "    f = 1\n",
        "    if n < 0:\n",
        "        return None\n",
        "    if n == 0 or n == 1:\n",
        "        return f\n",
        "    else:\n",
        "        return n * fatorial_recursivo(n - 1)"
      ],
      "metadata": {
        "id": "gGdGUnc6xwel"
      },
      "execution_count": 19,
      "outputs": []
    },
    {
      "cell_type": "code",
      "source": [
        "fatorial_recursivo(11)"
      ],
      "metadata": {
        "colab": {
          "base_uri": "https://localhost:8080/"
        },
        "id": "lDcw00Ahz_Ug",
        "outputId": "81017209-16ce-4623-b7f9-a416432224b1"
      },
      "execution_count": 21,
      "outputs": [
        {
          "output_type": "execute_result",
          "data": {
            "text/plain": [
              "39916800"
            ]
          },
          "metadata": {},
          "execution_count": 21
        }
      ]
    },
    {
      "cell_type": "code",
      "source": [
        "def fibonacci_iterativa(n: int):\n",
        "    f0 = 0\n",
        "    f1 = 1\n",
        "\n",
        "    if n == 0:\n",
        "        return f0\n",
        "\n",
        "    if n == 1:\n",
        "        return f1\n",
        "\n",
        "    else:\n",
        "        for i in range(2, n + 1):\n",
        "            fn = f0 + f1\n",
        "            f0 = f1\n",
        "            f1 = fn\n",
        "\n",
        "        return f1"
      ],
      "metadata": {
        "id": "y1BNayqd1OEy"
      },
      "execution_count": 67,
      "outputs": []
    },
    {
      "cell_type": "code",
      "source": [
        "fibonacci_iterativa(19)"
      ],
      "metadata": {
        "colab": {
          "base_uri": "https://localhost:8080/"
        },
        "id": "4ud7Qjk74UWU",
        "outputId": "ce4bfe77-481e-4cf7-989e-c0483c64eced"
      },
      "execution_count": 73,
      "outputs": [
        {
          "output_type": "execute_result",
          "data": {
            "text/plain": [
              "4181"
            ]
          },
          "metadata": {},
          "execution_count": 73
        }
      ]
    },
    {
      "cell_type": "code",
      "source": [
        "def fibonacci_iterativa_py(n: int):\n",
        "    f0, f1 = 0, 1\n",
        "\n",
        "    if n == 0:\n",
        "        return f0\n",
        "\n",
        "    if n == 1:\n",
        "        return f1\n",
        "\n",
        "    else:\n",
        "        for i in range(2, n + 1):\n",
        "            f0, f1 = f1, f0 + f1\n",
        "\n",
        "        return f1"
      ],
      "metadata": {
        "id": "bhCiDN48-V7-"
      },
      "execution_count": 87,
      "outputs": []
    },
    {
      "cell_type": "code",
      "source": [
        "fibonacci_iterativa_py(11)"
      ],
      "metadata": {
        "colab": {
          "base_uri": "https://localhost:8080/"
        },
        "id": "g8_LYmj4-mp8",
        "outputId": "6ac78502-2f56-47c2-84ba-04fd7d59db40"
      },
      "execution_count": 88,
      "outputs": [
        {
          "output_type": "execute_result",
          "data": {
            "text/plain": [
              "89"
            ]
          },
          "metadata": {},
          "execution_count": 88
        }
      ]
    },
    {
      "cell_type": "code",
      "source": [
        "def fibonacci_recursiva(n: int):\n",
        "    f0 = 0\n",
        "    f1 = 1\n",
        "\n",
        "    if n == 0:\n",
        "        return f0\n",
        "\n",
        "    if n == 1:\n",
        "        return f1\n",
        "\n",
        "    else:\n",
        "        return fibonacci_recursiva(n - 1) + fibonacci_recursiva(n - 2)"
      ],
      "metadata": {
        "id": "9pvGfxQE1OCF"
      },
      "execution_count": 58,
      "outputs": []
    },
    {
      "cell_type": "code",
      "source": [
        "fibonacci_recursiva(19)"
      ],
      "metadata": {
        "colab": {
          "base_uri": "https://localhost:8080/"
        },
        "id": "ReNQrLZE7ATd",
        "outputId": "ebc3cd8e-29ca-4e59-b946-17f5ab8f0916"
      },
      "execution_count": 61,
      "outputs": [
        {
          "output_type": "execute_result",
          "data": {
            "text/plain": [
              "4181"
            ]
          },
          "metadata": {},
          "execution_count": 61
        }
      ]
    }
  ]
}